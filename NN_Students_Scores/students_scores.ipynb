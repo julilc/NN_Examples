{
 "cells": [
  {
   "cell_type": "markdown",
   "metadata": {},
   "source": [
    "## Regression Neural Network for Students Scores predictions\n",
    "| Tec. Univ. en Inteligencia Artificial\n",
    "| Machine Learning II  \n",
    "\n",
    "Team members:  \n",
    "- López Ceratto, Julieta.  \n",
    "- Rodríguez Griñó, Tomás.  \n",
    "- Slepoy, David.  "
   ]
  },
  {
   "cell_type": "markdown",
   "metadata": {},
   "source": [
    "## Description // Descripción\n",
    "**EN**  \n",
    "In this problem, a dataset is presented that contains information about the academic performance of university students, as well as various factors that may influence it. The objective is to build a regression model using neural networks to predict the students' academic performance index based on the provided features.\n",
    "\n",
    "**ESP**  \n",
    "En este problema, se presenta un conjunto de datos que contiene información sobre el rendimiento académico de estudiantes universitarios, así como diversos factores que podrían influir en él. El objetivo es construir un modelo de regresión utilizando redes neuronales para predecir el índice de rendimiento académico de los estudiantes basado en las características proporcionadas."
   ]
  },
  {
   "cell_type": "markdown",
   "metadata": {},
   "source": [
    "## Dataset"
   ]
  },
  {
   "cell_type": "markdown",
   "metadata": {},
   "source": [
    "https://drive.google.com/file/d/1mfpXVLqDJah-sO0CF29LjKUz5NtKjZqc/view?usp=drive_link"
   ]
  },
  {
   "cell_type": "markdown",
   "metadata": {},
   "source": [
    "**EN**  \n",
    "The provided dataset includes the following variables for each student:\n",
    "- **Hours Studied:** The total number of hours each student dedicated to studying.\n",
    "- **Previous Scores:** The scores obtained by the students in previous exams.\n",
    "- **Extracurricular Activities:** Whether the student participates in extracurricular activities (Yes or No).\n",
    "- **Sleep Hours:** The average number of hours the student sleeps per day.\n",
    "- **Sample Question Papers Practiced:** The number of sample question papers the student practiced with.\n",
    "\n",
    "Additionally, the dataset includes the target variable:\n",
    "- **Performance Index:** An index that represents the overall academic performance of each student, rounded to the nearest integer. This index ranges from 10 to 100, where higher values indicate better performance.\n",
    "\n",
    "**ESP**  \n",
    "El dataset proporcionado incluye las siguientes **variables** para cada estudiante:\n",
    "- **Hours Studied**: El número total de horas dedicadas al estudio por cada estudiante.\n",
    "- **Previous Scores**: Las puntuaciones obtenidas por los estudiantes en exámenes previos.\n",
    "- **Extracurricular Activities:** Si el estudiante participa en actividades extracurriculares (Sí o No).\n",
    "- **Sleep Hours:** El número promedio de horas de sueño que el estudiante tuvo por día.\n",
    "- **Sample Question Papers Practiced:** El número de cuestionarios de muestra que el estudiante practicó.  \n",
    "\n",
    "Además, el dataset incluye la **variable objetivo**:\n",
    "- **Performance Index:** Un índice que representa el rendimiento académico general de cada estudiante, redondeado al entero más cercano. Este índice varía de 10 a 100, donde valores más altos indican un mejor rendimiento.\n"
   ]
  },
  {
   "cell_type": "markdown",
   "metadata": {},
   "source": [
    "## Objective // Objetivo \n",
    "**EN**  \n",
    "Using the provided dataset, the goal is to build a regression model using neural networks that can accurately predict the academic performance index of the students. The model should be trained and evaluated using appropriate validation techniques and regression evaluation metrics.\n",
    "\n",
    "**ESP**  \n",
    "Utilizando el dataset proporcionado, el objetivo es construir un modelo de regresión utilizando redes neuronales que pueda predecir con precisión el índice de rendimiento académico de los estudiantes. Se debe entrenar y evaluar el modelo utilizando técnicas adecuadas de validación y métricas de evaluación de regresión.\n"
   ]
  },
  {
   "cell_type": "markdown",
   "metadata": {},
   "source": [
    "## 0.Librerías a utilizar"
   ]
  },
  {
   "cell_type": "code",
   "execution_count": null,
   "metadata": {},
   "outputs": [
    {
     "name": "stdout",
     "output_type": "stream",
     "text": [
      "Requirement already satisfied: numpy in c:\\users\\julil\\appdata\\local\\packages\\pythonsoftwarefoundation.python.3.11_qbz5n2kfra8p0\\localcache\\local-packages\\python311\\site-packages (1.26.4)\n",
      "Note: you may need to restart the kernel to use updated packages.\n"
     ]
    },
    {
     "name": "stderr",
     "output_type": "stream",
     "text": [
      "\n",
      "[notice] A new release of pip is available: 24.3.1 -> 25.0.1\n",
      "[notice] To update, run: C:\\Users\\julil\\AppData\\Local\\Microsoft\\WindowsApps\\PythonSoftwareFoundation.Python.3.11_qbz5n2kfra8p0\\python.exe -m pip install --upgrade pip\n"
     ]
    }
   ],
   "source": [
    "%pip install pandas\n",
    "%pip install numpy\n"
   ]
  },
  {
   "cell_type": "code",
   "execution_count": null,
   "metadata": {},
   "outputs": [],
   "source": [
    "import pandas as pd\n",
    "import numpy as np"
   ]
  },
  {
   "cell_type": "markdown",
   "metadata": {},
   "source": [
    "## 1. Análisis previo y preprocesamiento del set de datos."
   ]
  },
  {
   "cell_type": "markdown",
   "metadata": {},
   "source": [
    "### Análisis"
   ]
  },
  {
   "cell_type": "markdown",
   "metadata": {},
   "source": [
    "## 2. Definición y entrenamiento del modelo."
   ]
  },
  {
   "cell_type": "markdown",
   "metadata": {},
   "source": [
    "## 3. Resultados de la evaluación del modelo. \n",
    "Incluyendo métricas de desempeño y visualizaciones relevantes."
   ]
  }
 ],
 "metadata": {
  "kernelspec": {
   "display_name": "Python 3",
   "language": "python",
   "name": "python3"
  },
  "language_info": {
   "codemirror_mode": {
    "name": "ipython",
    "version": 3
   },
   "file_extension": ".py",
   "mimetype": "text/x-python",
   "name": "python",
   "nbconvert_exporter": "python",
   "pygments_lexer": "ipython3",
   "version": "3.11.9"
  }
 },
 "nbformat": 4,
 "nbformat_minor": 2
}
